{
 "cells": [
  {
   "cell_type": "markdown",
   "metadata": {},
   "source": [
    "<div style=\"text-align: left;\">\n",
    "<table style=\"width:100%; background-color:transparent;\">\n",
    "  <tr style=\"background-color:transparent;\">\n",
    "    <td style=\"background-color:transparent;\">[<img src=\"http://project.inria.fr/saclaycds/files/2017/02/logoUPSayPlusCDS_990.png\" width=\"70%\"></td>\n",
    "  </tr>\n",
    "</table> \n",
    "</div>\n",
    "\n",
    "\n",
    "# RAMP on predictive maintenance for aircraft engines\n",
    "\n",
    "_Salma JERIDI, Aymen DABGHI, Aymen MTIBAA, Ahmed AKAKZIA_"
   ]
  },
  {
   "cell_type": "markdown",
   "metadata": {},
   "source": [
    "<div>\n",
    "<table style=\"width:100%; background-color:transparent;\">\n",
    "  <tr style=\"background-color:transparent;\">\n",
    "    <td style=\"background-color:transparent;\"><img src=\"https://1l0044267psh26mr7fa57m09-wpengine.netdna-ssl.com/wp-content/uploads/2017/12/opinion.jpg\" width=\"50%\"></td>\n",
    "  </tr>\n",
    "</table> \n",
    "</div>"
   ]
  },
  {
   "cell_type": "markdown",
   "metadata": {},
   "source": [
    "$\\bullet$ <a href='#un'>1. Prognostics and Health Management.<br><br></a>\n",
    "$\\bullet$ <a href='#deux'>2. Business case:<br></a>\n",
    "    + 2.1 Introduction.\n",
    "    + 2.2 Business Model.\n",
    "$\\bullet$ <a href='#tletha'>3. System Modeling and Data .<br><br></a>\n",
    "    + System Model.\n",
    "    + Data."
   ]
  },
  {
   "cell_type": "markdown",
   "metadata": {},
   "source": [
    "<a id='un'></a>\n",
    "# 1. Prognostics and Health Management (PHM) \n",
    "\n",
    "Prognostics and health management *(PHM)* is an engineering process of failure prevention and predicting reliability and remaining useful lifetime *(RUL)*. It has become an important component of many engineering systems and products since it is very crucial to every industry to to detect anomalies, malfunctions and failures before they can damage the whole environment, including the system and the users, and may cause high costs for repairs on un-scheduled maintenance. Inspite of its main objective which is to ensure safety for users, it provides state of the heath of the components and systems which can create a scheduled list to program maintenance before damage. These maintenance tasks become therefore evidence-based scheduled There are two main categories of applications of PHM :<br><br>\n",
    "$\\bullet$ __Off-line PHM__ : It concerns systems where safety is not critical and the ratio of failures is very small. <br>\n",
    "$\\bullet$ __Real-time PHM__ : It concerns systems where safety is critical and that demand on-board monitoring capability. <br><br>\n",
    "There are two approaches that help define the health of a system as the extent of deviation or degradation from its expected typical operating performance which has to be determined accurately to prevent the failures : __Data-driven__ and __Model-driven__. The former, as its name indicates, is based on data collection via real capturing or simulations based on theoretically-proved models. The latter is rather based on models that describe the system functionalities and specific knowledge.<br><br>\n",
    "\n",
    "\n",
    "<div>\n",
    "<table style=\"width:100%; background-color:transparent;\">\n",
    "  <tr style=\"background-color:transparent;\">\n",
    "    <td style=\"background-color:transparent;\"><img src=\"http://faculty.unist.ac.kr/reliability/wp-content/uploads/sites/357/2017/10/prognostics-and-health.png\" width=\"70%\"></td>\n",
    "  </tr>\n",
    "</table> \n",
    "</div>\n",
    "\n",
    "__In this challenge__, we would rather focus on the data-driven approach which uses monitored and historical data to learn the systems behaviours and perform prognostics. It is suitable for systems which are complex and with behaviours that cannot be assessed and deribed from first principles. It uses many algorithms that are quicker to implement and which are computationally more efficient to run compared with other techniques. The data is usually obtained via sensors. One problem of this approach is that the confidence level in the predictions depends on the available historical and empirical data. Besides, it requires some threshold values to be put by the operator which can sometimes be non-trivial.<br>\n",
    "Most efforts are focusing on data-driven approaches reflects the desire to harvest low-hanging fruit as compared to model-based approaches. Yet, it can be difficult to gain an access to statistically significant amounts of run-to-failure data and common metrics that allow a comparison between different approaches. Thus, a system model had been established in order to generate run-to failure data that can be utilized to develop, train and test prognostic algorithms. However, before entering into details of system modeling, let's start by introducing the business case we will be considereing for this challenge."
   ]
  },
  {
   "cell_type": "markdown",
   "metadata": {},
   "source": [
    "<a id='deux'></a>\n",
    "#  2. Business Case :  \n",
    "\n",
    "## 2.1 Introduction :\n",
    "\n",
    "__Airlines__ seem to be successful businesses with strong management. Nonetheless, they literally bear high costs due to delays and cancellations that includes expenses on maintenance and compensations to travelers stuck in airports. Besides, they suffer from a non neglectable probability of failing on-flight accidents which can lead to disasters. With nearly 30 percent of the total delay time caused by unplanned maintenance and at least 200 accident per year (including fatal accidents) , predictive analytics applied to fleet technical support is a reasonable solution.<br><br>\n",
    "Predictive maintenance solutions are used to better manage data from aircraft health monitoring sensors. Knowing an aircraft’s current technical condition through alerts, notifications, and reports, employees can spot issues pointing at possible malfunction and replace parts proactively. Executives and team leads, in turn, can receive updates on maintenance operations, get data on tool and part inventory, and expenses via dashboards.<br><br>\n",
    "With applied predictive maintenance, an airline can reduce expenses connected with expedited transportation of parts, overtime compensation for crews, and unplanned maintenance. If a technical problem did occur, maintenance teams could react to it faster with workflow organization software. The solution consists of analyzing data and metadata regarding detected maintenance activity. It helps engineers quickly evaluate a situation, for instance, to find out if this failure happened for the first time; if not, what can be done to fix it and how much time did it take to solve it previous times.<br><br>\n",
    "__Read further :__ https://www.forbes.com/sites/oliverwyman/2017/06/16/the-data-science-revolution-transforming-aviation/#6e2663227f6c\n",
    "\n",
    "<div>\n",
    "<table style=\"width:100%; background-color:transparent;\">\n",
    "  <tr style=\"background-color:transparent;\">\n",
    "    <td style=\"background-color:transparent;\"><img src=\"https://airfactsjournal.com/files/2017/08/Screen-Shot-2017-08-30-at-1.48.48-PM.png\" width=\"70%\"></td>\n",
    "  </tr>\n",
    "</table> \n",
    "</div>\n",
    "\n",
    "##  2.2 Business Model :  \n",
    "###  2.2.1 : Business Problem :  \n",
    "\n",
    "On the first hand, being ranked second after pilot error, aircraft's system failure is still one of the five most common reasons for accidents. Equipment failures still account for around 20% of aircraft losses, despite improvements in design and manufacturing quality. While engines are significantly more reliable today than they were half a century ago, they still occasionally suffer catastrophic failures.<br><br>\n",
    "\n",
    "Sometimes, new technologies introduce new types of failure. In the 1950s, for example, the introduction of high-flying, pressurised jet aircraft introduced an entirely new hazard – metal fatigue brought on by the hull’s pressurisation cycle. Several high-profile disasters caused by this problem led to the withdrawal of the de Havilland Comet aircraft model, pending design changes.<br><br>\n",
    "\n",
    "On the other hand, if it is discovered that there is a maintenance issue with your aircraft, the flight will not embark until the issue has been fully addressed. Sometimes, these issues are being worked on even as passengers board the plane, meaning the delay the passenger experiences might take place entirely on the tarmac. Other times, in the case of larger issues, your airline might make the call to switch planes entirely for the safety of everyone involved. Thus, this would cost a lot of money for the airline company to handle.<br><br>\n",
    "\n",
    "On-flight accidents and delays cause enormous costs for the airlines each year. Therefore, this issue should be handled.\n",
    "\n",
    "\n",
    "###  2.2.1 : Our solution :  \n",
    "\n",
    "First, we have to understand two main concepts: airliners are complex mechanical wonders, and second, their maintenance and operation is very strictly and minutely regulated–and documented. This second point is essential to the aviation regulatory standard upheld by all major airlines, even though such detail must be correctly, diligently accomplished. <br><br>\n",
    "\n",
    "Our solution would be to use a data-driven approach in order to schedule the different maintenance tasks in advance. In consists of making use of the different sensors and telemetry available, which depend on the different conditions and modes to predict the order of priority for each engine. In this way, the client would be able to know which engines need to go through maintenance tasks immediately, and which can still wait.<br><br>\n",
    "\n",
    "Since we talked about the client,  it can be an airline company trying to utilize historical data of equipment sensors to make data-driven decisions on its maintenance planning. Based on this analysis, the company will be able to estimate engine's order of priority and optimize its maintenance operations accordingly.\n",
    "\n",
    "\n",
    "###  2.2.1 : Predictive maintenance task : \n",
    "As mentionned previously, reliably estimating remaining life holds the promise for considerable cost savings. In fact, that allows us to avoid unscheduled maintenance and to increase equipment usage, and unsures the operational safety improvements.\n",
    "\n",
    "Some studies focus on predicting the Remaining Useful Life (RUL) of the engine of a part and its components, or the exact Time to Failure (TTF). For safety purpose, and considering the error of the predictive model, companies may define a safety threshold ie : a number of cycles that they add to the prediction made by the regressor. This fact makes the alternative of predicting if an asset will fail in different time windows relevant. We formulate then as a Multi-class classification problem and we define 4 four Time to Failure windows (4 classes) : \n",
    "\n",
    "\n",
    "* ** Class 0 : Very urgent maintenance :** 0 to 10 cycles remaining before failure. \n",
    "\n",
    "\n",
    "* ** Class 1 : Aircraft maintenance periodic checks needs to be deep and more detailed :** 11 to 30 cycles remaining before failure.\n",
    "\n",
    "\n",
    "*  ** Class 2 : Confident system : We can plan from this period the future maintenance date and provide the needed equipments :** 31 to 100 cycles remaining before failure.\n",
    "\n",
    "\n",
    "*  ** Class 3 : Very confident system : Only periodic checks are needed :** more than 101 cycles remaining before failure.\n",
    "\n",
    "We set the thresholds based on two key ideas of the predective maintenance : We want to predict the optimal time for maintenance by :\n",
    "\n",
    "1. Minimizing the risk of unexpected failure.\n",
    "\n",
    "\n",
    "2. Minimizing the cost of early and useless maintenance. \n",
    "\n",
    "###  2.2.1 : Business metrics : \n",
    "\n",
    "In our context, since the key aspect is to avoid failures, it is generally desirable to predict early as compared to predicting late. However, early predictions may also involve significant economic burden. We need then to choose a metric that heavely penalizes late predictions and takes of course into account the early prediction. To do so, we propose to combine two metrics : \n",
    "\n",
    "#### Macro-averaged F1-score : \n",
    "\n",
    "In this score, we need to define the weighted macro precision and recall score. We define the weights w.r.t to the previous condition. In fact, \n",
    "\n",
    "1. Assuming we have a One-vs-All (OvA) classifier, we calculate for each class (j) the corresponding precision and recall score : \n",
    "\n",
    "$$ P_j = \\frac{TP_j}{TP_j+FP_j} \\quad \\quad \\quad R_j = \\frac{TP_j}{TP_j+FN_j}$$\n",
    "\n",
    "2. We average the performances of each individual class using a weight vector. In fact, making a late prediction for an engine having class 0 in the true labels is very dangerous. So, we need to avoid as much as possible the False Negative prediction for elements of the first class. The less is the true maintenance urgency, the more we can tolerate the FN rate. For this reason, we define the weighted Recall rate by : \n",
    "\n",
    "$$ R = \\sum_{i=1}^{4} w_i R_i, \\quad \\quad \\quad w = [0.5, 0.3, 0.1, 0.1]$$ \n",
    "\n",
    "\n",
    "3. Similarly, falsely predicting that an aircraft is in class 3 is a late prediction and can cause damages specially if the true label is urgent maintenance. We can tolerate a bit more the case of class 2 because in some cases we can have an early prediction, but we still aim to penalize this kind of prediction. To do so, we define the weighted Precision as following : \n",
    "\n",
    "$$ P = \\sum_{i=1}^{4} w_i P_i, \\quad \\quad \\quad w = [0.1, 0.2, 0.3, 0.4]$$ \n",
    "\n",
    "4. Finally, using the precision & recall calculated previoulsly, we define the macro-averaged F1-score by : \n",
    "\n",
    "$$ F1 = \\frac{2 * P * R}{P+R}$$\n",
    "\n",
    "#### Multi-class logarithmic loss function :\n",
    "\n",
    "We introduce the log loss function for our multicass problem :\n",
    "\n",
    "$$ LogLoss = − \\frac{1}{N}\\sum_i^N \\sum_j^M y_{ij} \\log(p_{ij}))$$\n",
    "\n",
    "where N is the number of instances, M is the number of different labels, yij is the binary variable with the expected labels and pij is the classificiation probability output by the classifier for the i-instance and the j-label.\n",
    "\n",
    "\n",
    "#### Mixed score:\n",
    "\n",
    "We define the final score function that we aim to minimize by : \n",
    "\n",
    "$$ L = LogLoss + (1 - F1_{score}) $$ \n",
    "\n"
   ]
  },
  {
   "cell_type": "markdown",
   "metadata": {},
   "source": [
    "<a id='tletha'></a>\n",
    "# 3. System Modeling and Data :\n"
   ]
  },
  {
   "cell_type": "markdown",
   "metadata": {},
   "source": [
    "As mentionned in the introduction, data-driven prognostics faces the perennial challenge of the lack of run-to-failure data sets. In most cases realworld, it is time consuming and expensive to have such a data. In other cases, it's is not even feasible. For example, an airlaine company cannot afford to wait for an engine failure in order to keep the failure exact date. Instead, they perform model/data driven maintenance to avoid the failures.   \n",
    "\n",
    "In order to face the lack of PHM data, a group of scientist in the U.S. National Aeronautics and Space Administration (NASA) worked on generating run-to-failure data that can then be utilized to develop, train, and test prognostic algorithms. In our challenge, we are going to use this generated data in order to train a robust model that can be used on real sensors data. \n",
    "\n",
    "First, let's introduce the two main concept of data generation."
   ]
  },
  {
   "cell_type": "markdown",
   "metadata": {},
   "source": [
    "##  3.1 System modeling \n",
    "\n",
    "As the goal is to track and to predict the progression of damage in aircraft, the group of scienctist worked first on the simulation of a suitable system model that allows input variations of health related parameters and recording of the resulting output sensor measurements. To do so, they used C-MAPSS (Commercial Modular Aero Propulsion System Simulation) that allow the user to enter specific values of his/her own choice regarding operational profile, closed-loop controllers, environmental conditions, etc, and outputs a simulation of an engine model. A simplified diagram of engine simulated in C-MAPSS and a layout showing various modules and their connections as modeled in the simulation are shown in the following figures : "
   ]
  },
  {
   "cell_type": "markdown",
   "metadata": {},
   "source": [
    "Simplified diagram of engine simulated in C-MAPSS            |  Various modules and their connections as modeled in the simulation\n",
    ":-----------------------------------------------------------:|:-----------------------------------------------------------:\n",
    "![](https://raw.githubusercontent.com/akakzia/aircraft_engine_predictive_maintenance/master/image/engine_diagram.PNG)  |  ![](https://raw.githubusercontent.com/akakzia/aircraft_engine_predictive_maintenance/master/image/modules_layout.PNG)"
   ]
  },
  {
   "cell_type": "markdown",
   "metadata": {},
   "source": [
    "To simulate various degradation scenarios in any of the five rotating components of the simulated engine, C-MAPSS inputs the aircraft configuration. For example, to simulate HPC (High-Pressure Compressor) degradation, C-MAPSS requires the HPC flow and efficiency modifiers. The outputs include various sensor response surfaces. A total of 21 variables out\n",
    "of 58 different outputs available from the model were used in this challenge."
   ]
  },
  {
   "cell_type": "markdown",
   "metadata": {},
   "source": [
    "As an example of sensor response, we have :\n",
    "\n",
    "* Total temperature at HPC outlet\n",
    "* Total temperature at LPT outlet\n",
    "* Pressure at fan inlet\n",
    "* Total pressure in bypass-duct\n",
    "* Total pressure at HPC outlet\n",
    "* Physical fan speed\n",
    "* Physical core speed, ..."
   ]
  },
  {
   "cell_type": "markdown",
   "metadata": {},
   "source": [
    "##  3.2 Damage propagation modeling \n",
    "\n",
    "Having decided on the system model, the next step is to model the propagation of damage. The purpose here is to find a model-based method to generate the Time-to-failure (ttf) given the sensors data. In litterature, many degradation models have been proposed. **As an example**, The Arrhenius model has been used for a variety of failure mechanisms. The operative equation is:\n",
    "$$ t_f = A * e^{\\frac{\\Delta H}{kT}} $$\n",
    "\n",
    "With : \n",
    "* $t_f$ is the time to failure,\n",
    "* T is the temperature at the point when the failure process takes place,\n",
    "* k is Boltzmann's constant,\n",
    "* A is a scaling factor, and\n",
    "* $\\Delta H$ is the activation energy.\n",
    "\n",
    "In our case, For the purpose of a physics-inspired data-generation approach, we assume a generalized **equation for wear** which ignores micro-level processes but retains macro-level degradation characteristics. In addition to this propagation model, two important issues have been considered : "
   ]
  },
  {
   "cell_type": "markdown",
   "metadata": {},
   "source": [
    "###  3.2.1 Initial Wear \n",
    "\n",
    "\n",
    "Initial wear can occur due to manufacturing inefficiencies and are commonly observed in real systems. In the simulation, the degree of initial wear that an engine might experience with progressive usage was implemented following the calculations made by \n",
    "Chatterjee and Litt <font size=\"1\"> (see S. Chatterjee and J. Litt, \"Online Model Parameter Estimation of Jet Engine Degradation for Autonomous Propulsion Control, \"NASA, Technical Manual TM2003-212608, 2003. for more details) "
   ]
  },
  {
   "cell_type": "markdown",
   "metadata": {},
   "source": [
    "###  3.2.2 Effects of between-flight maintenance \n",
    "\n",
    "The effects of between-flight maintenance have not been explicitly modeled but have been incorporated as the process noise. Since there was no real data available to characterize true noise levels, simplistic normal noise distributions were assumed based on information available from the literature. Finally, To make the signal noise non-trivial, mixture distributions were used."
   ]
  },
  {
   "cell_type": "markdown",
   "metadata": {},
   "source": [
    "##  3.3 Data for the challenge \n",
    "\n",
    "\n",
    "During this challenge, we are going to use the NASA's public data set, result of Engine degradation simulation described previously. Four different sets were simulated under different combinations of operational conditions and fault modes <font size=\"1\"> (original data available here : https://ti.arc.nasa.gov/tech/dash/groups/pcoe/prognostic-data-repository/?fbclid=IwAR2ec11zAXo5KH5PcJO0axppSlajScvSrUL17xxbSqUiQ7YpVie31CCSw4s#turbofan)  </font>\n",
    "\n",
    "For our case, we restrict our study to the combination of two data sets simulated under those conditions : \n",
    "\n",
    "* Fault Modes : HPC and/or Fan module Degradation\n",
    "* Simulation under sea level condition.\n",
    "\n",
    "Data sets consists of multiple multivariate time series. Each data set is further divided into training and test subsets. Each time series is from a different engine, i.e, the data can be considered to be from a fleet of engines of the same type."
   ]
  },
  {
   "cell_type": "markdown",
   "metadata": {},
   "source": [
    "Each row is a snapshot of data taken during a single operational cycle, each column is a different variable. The columns correspond to:\n",
    "\n",
    "1)\tunit number\n",
    "\n",
    "2)\ttime, in cycles\n",
    "\n",
    "3)\toperational setting 1\n",
    "\n",
    "4)\toperational setting 2\n",
    "\n",
    "5)\toperational setting 3\n",
    "\n",
    "6)\tsensor measurement  1\n",
    "\n",
    "7)\tsensor measurement  2\n",
    "\n",
    "...\n",
    "\n",
    "26)\tsensor measurement  26\n"
   ]
  },
  {
   "cell_type": "markdown",
   "metadata": {},
   "source": [
    "The engine is operating normally at the start of each time series, and develops a fault at some point during the series. In the training set, the fault grows in magnitude until system failure. In the test set, the time series ends some time prior to system failure. A part of the data is hidden and will be used as a validation set. To conclude, the available data is the following : \n",
    "\n",
    "* Training Data: The aircraft engine run-to-failure data.\n",
    "* Test Data: The aircraft engine operating data without failure events recorded.\n",
    "* Ground Truth Data: The true remaining cycles for each engine in the testing data."
   ]
  },
  {
   "cell_type": "code",
   "execution_count": null,
   "metadata": {},
   "outputs": [],
   "source": []
  }
 ],
 "metadata": {
  "kernelspec": {
   "display_name": "Python 3",
   "language": "python",
   "name": "python3"
  },
  "language_info": {
   "codemirror_mode": {
    "name": "ipython",
    "version": 3
   },
   "file_extension": ".py",
   "mimetype": "text/x-python",
   "name": "python",
   "nbconvert_exporter": "python",
   "pygments_lexer": "ipython3",
   "version": "3.6.5"
  }
 },
 "nbformat": 4,
 "nbformat_minor": 2
}
